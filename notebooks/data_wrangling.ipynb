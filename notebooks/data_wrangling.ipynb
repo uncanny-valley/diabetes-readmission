{
 "cells": [
  {
   "cell_type": "code",
   "execution_count": 1,
   "metadata": {},
   "outputs": [],
   "source": [
    "%load_ext autoreload\n",
    "%autoreload 2"
   ]
  },
  {
   "cell_type": "code",
   "execution_count": 2,
   "metadata": {},
   "outputs": [],
   "source": [
    "import numpy as np\n",
    "import pandas as pd\n",
    "import os\n",
    "\n",
    "import matplotlib.pyplot as plt\n",
    "import seaborn as sns\n",
    "sns.set()\n",
    "\n",
    "pd.options.display.max_columns = 100"
   ]
  },
  {
   "cell_type": "code",
   "execution_count": 3,
   "metadata": {},
   "outputs": [
    {
     "name": "stdout",
     "output_type": "stream",
     "text": [
      "<class 'pandas.core.frame.DataFrame'>\n",
      "Int64Index: 101766 entries, 2278392 to 443867222\n",
      "Data columns (total 49 columns):\n",
      " #   Column                    Non-Null Count   Dtype \n",
      "---  ------                    --------------   ----- \n",
      " 0   patient_nbr               101766 non-null  int64 \n",
      " 1   race                      101766 non-null  object\n",
      " 2   gender                    101766 non-null  object\n",
      " 3   age                       101766 non-null  object\n",
      " 4   weight                    101766 non-null  object\n",
      " 5   admission_type_id         101766 non-null  int64 \n",
      " 6   discharge_disposition_id  101766 non-null  int64 \n",
      " 7   admission_source_id       101766 non-null  int64 \n",
      " 8   time_in_hospital          101766 non-null  int64 \n",
      " 9   payer_code                101766 non-null  object\n",
      " 10  medical_specialty         101766 non-null  object\n",
      " 11  num_lab_procedures        101766 non-null  int64 \n",
      " 12  num_procedures            101766 non-null  int64 \n",
      " 13  num_medications           101766 non-null  int64 \n",
      " 14  number_outpatient         101766 non-null  int64 \n",
      " 15  number_emergency          101766 non-null  int64 \n",
      " 16  number_inpatient          101766 non-null  int64 \n",
      " 17  diag_1                    101766 non-null  object\n",
      " 18  diag_2                    101766 non-null  object\n",
      " 19  diag_3                    101766 non-null  object\n",
      " 20  number_diagnoses          101766 non-null  int64 \n",
      " 21  max_glu_serum             101766 non-null  object\n",
      " 22  A1Cresult                 101766 non-null  object\n",
      " 23  metformin                 101766 non-null  object\n",
      " 24  repaglinide               101766 non-null  object\n",
      " 25  nateglinide               101766 non-null  object\n",
      " 26  chlorpropamide            101766 non-null  object\n",
      " 27  glimepiride               101766 non-null  object\n",
      " 28  acetohexamide             101766 non-null  object\n",
      " 29  glipizide                 101766 non-null  object\n",
      " 30  glyburide                 101766 non-null  object\n",
      " 31  tolbutamide               101766 non-null  object\n",
      " 32  pioglitazone              101766 non-null  object\n",
      " 33  rosiglitazone             101766 non-null  object\n",
      " 34  acarbose                  101766 non-null  object\n",
      " 35  miglitol                  101766 non-null  object\n",
      " 36  troglitazone              101766 non-null  object\n",
      " 37  tolazamide                101766 non-null  object\n",
      " 38  examide                   101766 non-null  object\n",
      " 39  citoglipton               101766 non-null  object\n",
      " 40  insulin                   101766 non-null  object\n",
      " 41  glyburide-metformin       101766 non-null  object\n",
      " 42  glipizide-metformin       101766 non-null  object\n",
      " 43  glimepiride-pioglitazone  101766 non-null  object\n",
      " 44  metformin-rosiglitazone   101766 non-null  object\n",
      " 45  metformin-pioglitazone    101766 non-null  object\n",
      " 46  change                    101766 non-null  object\n",
      " 47  diabetesMed               101766 non-null  object\n",
      " 48  readmitted                101766 non-null  object\n",
      "dtypes: int64(12), object(37)\n",
      "memory usage: 38.8+ MB\n"
     ]
    }
   ],
   "source": [
    "PROJECT_ROOT = os.path.dirname(os.path.abspath(os.curdir))\n",
    "INPUT_FILEPATH = os.path.join(PROJECT_ROOT, 'data', 'raw')\n",
    "OUTPUT_FILEPATH = os.path.join(PROJECT_ROOT, 'data', 'processed')\n",
    "INPUT_CSV_FILEPATH = os.path.join(INPUT_FILEPATH, 'diabetes.csv')\n",
    "OUTPUT_CSV_FILEPATH = os.path.join(OUTPUT_FILEPATH, 'diabetes.csv')\n",
    "OUTPUT_PICKLE_FILEPATH = os.path.join(OUTPUT_FILEPATH, 'diabetes.pkl')\n",
    "OUTPUT_SINGLE_ENCOUNTER_CSV_FILEPATH = os.path.join(OUTPUT_FILEPATH, 'diabetes--single-encounter.csv')\n",
    "OUTPUT_SINGLE_ENCOUNTER_PICKLE_FILEPATH = os.path.join(OUTPUT_FILEPATH, 'diabetes--single-encounter.pkl')\n",
    "\n",
    "ID_MAPPINGS = ['admission_source_id', 'admission_type_id', 'discharge_disposition_id']\n",
    "\n",
    "# Load diabetes data into a dataframe where encounter ID is the index\n",
    "df = pd.read_csv(INPUT_CSV_FILEPATH, index_col=0)\n",
    "df.info()"
   ]
  },
  {
   "cell_type": "code",
   "execution_count": 4,
   "metadata": {},
   "outputs": [],
   "source": [
    "original_shape = df.shape"
   ]
  },
  {
   "cell_type": "code",
   "execution_count": 5,
   "metadata": {},
   "outputs": [],
   "source": [
    "id_mappings = dict()\n",
    "\n",
    "for c in ID_MAPPINGS:\n",
    "    p = os.path.join(INPUT_FILEPATH, f'{c}_mappings.csv')\n",
    "    id_mappings[c] = pd.read_csv(p)"
   ]
  },
  {
   "cell_type": "code",
   "execution_count": 6,
   "metadata": {},
   "outputs": [],
   "source": [
    "def homogeneous_features(df):\n",
    "    features = []\n",
    "    for c in df.columns:\n",
    "        v = df[c].value_counts().to_numpy()\n",
    "        if np.count_nonzero(v) <= 1:\n",
    "            features.append(c)\n",
    "            \n",
    "    return features"
   ]
  },
  {
   "cell_type": "markdown",
   "metadata": {},
   "source": [
    "### 1. Handling Missing Values\n",
    "\n",
    "Null values are encoded as '?' in the raw data, so we'll convert them to NumPy's NaN value to be able to use Pandas null/na methods."
   ]
  },
  {
   "cell_type": "code",
   "execution_count": 7,
   "metadata": {},
   "outputs": [],
   "source": [
    "# Convert '?' and 'None' values to numpy NaN\n",
    "df[df == '?'] = np.nan\n",
    "df[df == 'None'] = np.nan"
   ]
  },
  {
   "cell_type": "markdown",
   "metadata": {},
   "source": [
    "We compare the proportions of NaN values of each feature to determine if each feature is worth considering for our predictive task."
   ]
  },
  {
   "cell_type": "code",
   "execution_count": 8,
   "metadata": {},
   "outputs": [
    {
     "data": {
      "text/plain": [
       "patient_nbr                 0.000000\n",
       "race                        0.022336\n",
       "gender                      0.000000\n",
       "age                         0.000000\n",
       "weight                      0.968585\n",
       "admission_type_id           0.000000\n",
       "discharge_disposition_id    0.000000\n",
       "admission_source_id         0.000000\n",
       "time_in_hospital            0.000000\n",
       "payer_code                  0.395574\n",
       "medical_specialty           0.490822\n",
       "num_lab_procedures          0.000000\n",
       "num_procedures              0.000000\n",
       "num_medications             0.000000\n",
       "number_outpatient           0.000000\n",
       "number_emergency            0.000000\n",
       "number_inpatient            0.000000\n",
       "diag_1                      0.000206\n",
       "diag_2                      0.003518\n",
       "diag_3                      0.013983\n",
       "number_diagnoses            0.000000\n",
       "max_glu_serum               0.947468\n",
       "A1Cresult                   0.832773\n",
       "metformin                   0.000000\n",
       "repaglinide                 0.000000\n",
       "nateglinide                 0.000000\n",
       "chlorpropamide              0.000000\n",
       "glimepiride                 0.000000\n",
       "acetohexamide               0.000000\n",
       "glipizide                   0.000000\n",
       "glyburide                   0.000000\n",
       "tolbutamide                 0.000000\n",
       "pioglitazone                0.000000\n",
       "rosiglitazone               0.000000\n",
       "acarbose                    0.000000\n",
       "miglitol                    0.000000\n",
       "troglitazone                0.000000\n",
       "tolazamide                  0.000000\n",
       "examide                     0.000000\n",
       "citoglipton                 0.000000\n",
       "insulin                     0.000000\n",
       "glyburide-metformin         0.000000\n",
       "glipizide-metformin         0.000000\n",
       "glimepiride-pioglitazone    0.000000\n",
       "metformin-rosiglitazone     0.000000\n",
       "metformin-pioglitazone      0.000000\n",
       "change                      0.000000\n",
       "diabetesMed                 0.000000\n",
       "readmitted                  0.000000\n",
       "dtype: float64"
      ]
     },
     "execution_count": 8,
     "metadata": {},
     "output_type": "execute_result"
    }
   ],
   "source": [
    "df.isna().sum() / len(df)"
   ]
  },
  {
   "cell_type": "markdown",
   "metadata": {},
   "source": [
    "The `weight` and `payer_code` (the ID that corresponds to the method that the patient used to pay for their treatment) have a high incidence of null or missing data."
   ]
  },
  {
   "cell_type": "code",
   "execution_count": 9,
   "metadata": {},
   "outputs": [],
   "source": [
    "df = df.drop(columns=['weight', 'payer_code'], errors='ignore')"
   ]
  },
  {
   "cell_type": "markdown",
   "metadata": {},
   "source": [
    "## 2. Handling Ordinal and Nominal Features\n",
    "\n",
    "### 2a. Ordinal features\n",
    "* `age` - Age of the patient bucketed in intervals of 10 years "
   ]
  },
  {
   "cell_type": "code",
   "execution_count": 10,
   "metadata": {},
   "outputs": [
    {
     "data": {
      "text/plain": [
       "[70-80)     26068\n",
       "[60-70)     22483\n",
       "[50-60)     17256\n",
       "[80-90)     17197\n",
       "[40-50)      9685\n",
       "[30-40)      3775\n",
       "[90-100)     2793\n",
       "[20-30)      1657\n",
       "[10-20)       691\n",
       "[0-10)        161\n",
       "Name: age, dtype: int64"
      ]
     },
     "execution_count": 10,
     "metadata": {},
     "output_type": "execute_result"
    }
   ],
   "source": [
    "df.age.value_counts()"
   ]
  },
  {
   "cell_type": "code",
   "execution_count": 11,
   "metadata": {},
   "outputs": [],
   "source": [
    "# Convert age brackets into an integer between 0-9\n",
    "age_mappings = ['[0-10)', '[10-20)', '[20-30)', '[30-40)', '[40-50)', '[50-60)', '[60-70)', '[70-80)', '[80-90)', '[90-100)']\n",
    "age_mappings = dict(zip(age_mappings, range(0, len(age_mappings))))\n",
    "df['age'] = df.age.map(age_mappings)"
   ]
  },
  {
   "cell_type": "markdown",
   "metadata": {},
   "source": [
    "### 2b. Binary nominal features\n",
    " "
   ]
  },
  {
   "cell_type": "code",
   "execution_count": 12,
   "metadata": {},
   "outputs": [
    {
     "data": {
      "text/plain": [
       "[('acetohexamide',\n",
       "  No        101765\n",
       "  Steady         1\n",
       "  Name: acetohexamide, dtype: int64),\n",
       " ('tolbutamide',\n",
       "  No        101743\n",
       "  Steady        23\n",
       "  Name: tolbutamide, dtype: int64),\n",
       " ('troglitazone',\n",
       "  No        101763\n",
       "  Steady         3\n",
       "  Name: troglitazone, dtype: int64),\n",
       " ('glipizide-metformin',\n",
       "  No        101753\n",
       "  Steady        13\n",
       "  Name: glipizide-metformin, dtype: int64),\n",
       " ('glimepiride-pioglitazone',\n",
       "  No        101765\n",
       "  Steady         1\n",
       "  Name: glimepiride-pioglitazone, dtype: int64),\n",
       " ('metformin-rosiglitazone',\n",
       "  No        101764\n",
       "  Steady         2\n",
       "  Name: metformin-rosiglitazone, dtype: int64),\n",
       " ('metformin-pioglitazone',\n",
       "  No        101765\n",
       "  Steady         1\n",
       "  Name: metformin-pioglitazone, dtype: int64),\n",
       " ('change',\n",
       "  No    54755\n",
       "  Ch    47011\n",
       "  Name: change, dtype: int64),\n",
       " ('diabetesMed',\n",
       "  Yes    78363\n",
       "  No     23403\n",
       "  Name: diabetesMed, dtype: int64)]"
      ]
     },
     "execution_count": 12,
     "metadata": {},
     "output_type": "execute_result"
    }
   ],
   "source": [
    "binary_nominal_features = []\n",
    "for c in df.columns:\n",
    "    v = df[c].value_counts()\n",
    "    \n",
    "    if df[c].dtype == 'object' and v.shape[0] == 2:\n",
    "        binary_nominal_features.append((c, v))\n",
    "        \n",
    "binary_nominal_features"
   ]
  },
  {
   "cell_type": "markdown",
   "metadata": {},
   "source": [
    "We can encode binary features like `change` and `diabetesMed` into a boolean value. Medication-related features circumstantially have two values but can take 4 possible values {up, down, steady, no}."
   ]
  },
  {
   "cell_type": "code",
   "execution_count": 13,
   "metadata": {},
   "outputs": [],
   "source": [
    "df.loc[df.change == 'No', 'change'] = 0\n",
    "df.loc[df.change == 'Ch', 'change'] = 1"
   ]
  },
  {
   "cell_type": "code",
   "execution_count": 14,
   "metadata": {},
   "outputs": [],
   "source": [
    "df.loc[df.diabetesMed == 'No', 'diabetesMed'] = 0\n",
    "df.loc[df.diabetesMed == 'Yes', 'diabetesMed'] = 1"
   ]
  },
  {
   "cell_type": "markdown",
   "metadata": {},
   "source": [
    "### 2c. Medication-related features\n",
    "This dataset contains 23 medication names where its values are:\n",
    " - `Up`: The dosage was increased during the encounter\n",
    " - `Down`: The dosage was decreased during the encounter\n",
    " - `Steady`: The dosage remained unchanged\n",
    " - `No`: The drug was not prescribed\n",
    " \n",
    " Let's first verify that no medication-related features have values that are not in the value space above:\n"
   ]
  },
  {
   "cell_type": "code",
   "execution_count": 15,
   "metadata": {},
   "outputs": [
    {
     "name": "stdout",
     "output_type": "stream",
     "text": [
      "<class 'pandas.core.frame.DataFrame'>\n",
      "Int64Index: 101766 entries, 2278392 to 443867222\n",
      "Data columns (total 23 columns):\n",
      " #   Column                    Non-Null Count   Dtype   \n",
      "---  ------                    --------------   -----   \n",
      " 0   metformin                 101766 non-null  category\n",
      " 1   repaglinide               101766 non-null  category\n",
      " 2   nateglinide               101766 non-null  category\n",
      " 3   chlorpropamide            101766 non-null  category\n",
      " 4   glimepiride               101766 non-null  category\n",
      " 5   acetohexamide             101766 non-null  category\n",
      " 6   glipizide                 101766 non-null  category\n",
      " 7   glyburide                 101766 non-null  category\n",
      " 8   tolbutamide               101766 non-null  category\n",
      " 9   pioglitazone              101766 non-null  category\n",
      " 10  rosiglitazone             101766 non-null  category\n",
      " 11  acarbose                  101766 non-null  category\n",
      " 12  miglitol                  101766 non-null  category\n",
      " 13  troglitazone              101766 non-null  category\n",
      " 14  tolazamide                101766 non-null  category\n",
      " 15  examide                   101766 non-null  category\n",
      " 16  citoglipton               101766 non-null  category\n",
      " 17  insulin                   101766 non-null  category\n",
      " 18  glyburide-metformin       101766 non-null  category\n",
      " 19  glipizide-metformin       101766 non-null  category\n",
      " 20  glimepiride-pioglitazone  101766 non-null  category\n",
      " 21  metformin-rosiglitazone   101766 non-null  category\n",
      " 22  metformin-pioglitazone    101766 non-null  category\n",
      "dtypes: category(23)\n",
      "memory usage: 3.0 MB\n"
     ]
    }
   ],
   "source": [
    "medication_values = {'Up', 'Down', 'Steady', 'No'}\n",
    "medication_features = df.loc[:, 'metformin':'metformin-pioglitazone'].columns\n",
    "for f in medication_features:\n",
    "    counts = df[f].value_counts()\n",
    "    values = set(list(counts.keys()))\n",
    "    \n",
    "    if len(values - medication_values) > 0:\n",
    "        raise ValueError(f'feature {f} contains illegal value {values}')\n",
    "    df[f] = pd.Categorical(df[f], categories=medication_values)\n",
    "    \n",
    "df[medication_features].info()"
   ]
  },
  {
   "cell_type": "markdown",
   "metadata": {},
   "source": [
    "### 2d. Other nominal features\n",
    "- `admission_type_id` - The purpose of admission. It comprises 9 values:"
   ]
  },
  {
   "cell_type": "code",
   "execution_count": 16,
   "metadata": {},
   "outputs": [
    {
     "data": {
      "text/plain": [
       "array(['Emergency', 'Urgent', 'Elective', 'Newborn', 'Not Available', nan,\n",
       "       'Trauma Center', 'Not Mapped'], dtype=object)"
      ]
     },
     "execution_count": 16,
     "metadata": {},
     "output_type": "execute_result"
    }
   ],
   "source": [
    "id_mappings['admission_type_id'].description.unique()"
   ]
  },
  {
   "cell_type": "code",
   "execution_count": 17,
   "metadata": {},
   "outputs": [
    {
     "data": {
      "text/plain": [
       "Emergency        0.530531\n",
       "Elective         0.185416\n",
       "Urgent           0.181593\n",
       "Not Available    0.099011\n",
       "Not Mapped       0.003144\n",
       "Trauma Center    0.000206\n",
       "Newborn          0.000098\n",
       "Name: admission_type_id, dtype: float64"
      ]
     },
     "execution_count": 17,
     "metadata": {},
     "output_type": "execute_result"
    }
   ],
   "source": [
    "df['admission_type_id'] = df.admission_type_id.map(dict(zip(id_mappings['admission_type_id'].admission_type_id, id_mappings['admission_type_id'].description)))\n",
    "# Map all NULL values to Not Available\n",
    "df.loc[df.admission_type_id.isnull(), 'admission_type_id'] = 'Not Available'\n",
    "df['admission_type_id'] = df.admission_type_id.astype('category')\n",
    "df.admission_type_id.value_counts(normalize=True)"
   ]
  },
  {
   "cell_type": "code",
   "execution_count": 18,
   "metadata": {},
   "outputs": [
    {
     "data": {
      "image/png": "[encoded data removed]",
      "text/plain": [
       "<Figure size 432x288 with 1 Axes>"
      ]
     },
     "metadata": {},
     "output_type": "display_data"
    }
   ],
   "source": [
    "_ = plt.hist(df.admission_type_id, bins=100)\n",
    "_ = plt.xticks(rotation='vertical')"
   ]
  },
  {
   "cell_type": "markdown",
   "metadata": {},
   "source": [
    "- `discharge_disposition_id` - patient discharge details if applicable"
   ]
  },
  {
   "cell_type": "code",
   "execution_count": 19,
   "metadata": {},
   "outputs": [
    {
     "data": {
      "text/plain": [
       "array(['Discharged to home',\n",
       "       'Discharged/transferred to another short term hospital',\n",
       "       'Discharged/transferred to SNF', 'Discharged/transferred to ICF',\n",
       "       'Discharged/transferred to another type of inpatient care institution',\n",
       "       'Discharged/transferred to home with home health service',\n",
       "       'Left AMA',\n",
       "       'Discharged/transferred to home under care of Home IV provider',\n",
       "       'Admitted as an inpatient to this hospital',\n",
       "       'Neonate discharged to another hospital for neonatal aftercare',\n",
       "       'Expired',\n",
       "       'Still patient or expected to return for outpatient services',\n",
       "       'Hospice / home', 'Hospice / medical facility',\n",
       "       'Discharged/transferred within this institution to Medicare approved swing bed',\n",
       "       'Discharged/transferred/referred another institution for outpatient services',\n",
       "       'Discharged/transferred/referred to this institution for outpatient services',\n",
       "       nan, 'Expired at home. Medicaid only, hospice.',\n",
       "       'Expired in a medical facility. Medicaid only, hospice.',\n",
       "       'Expired, place unknown. Medicaid only, hospice.',\n",
       "       'Discharged/transferred to another rehab fac including rehab units of a hospital .',\n",
       "       'Discharged/transferred to a long term care hospital.',\n",
       "       'Discharged/transferred to a nursing facility certified under Medicaid but not certified under Medicare.',\n",
       "       'Not Mapped', 'Unknown/Invalid',\n",
       "       'Discharged/transferred to another Type of Health Care Institution not Defined Elsewhere',\n",
       "       'Discharged/transferred to a federal health care facility.',\n",
       "       'Discharged/transferred/referred to a psychiatric hospital of psychiatric distinct part unit of a hospital',\n",
       "       'Discharged/transferred to a Critical Access Hospital (CAH).'],\n",
       "      dtype=object)"
      ]
     },
     "execution_count": 19,
     "metadata": {},
     "output_type": "execute_result"
    }
   ],
   "source": [
    "id_mappings['discharge_disposition_id'].description.unique()"
   ]
  },
  {
   "cell_type": "code",
   "execution_count": 20,
   "metadata": {},
   "outputs": [
    {
     "data": {
      "text/plain": [
       "Discharged to home                                                                                           0.591887\n",
       "Discharged/transferred to SNF                                                                                0.137118\n",
       "Discharged/transferred to home with home health service                                                      0.126781\n",
       "Unknown/Invalid                                                                                              0.036269\n",
       "Discharged/transferred to another short term hospital                                                        0.020911\n",
       "Discharged/transferred to another rehab fac including rehab units of a hospital .                            0.019584\n",
       "Expired                                                                                                      0.016135\n",
       "Discharged/transferred to another type of inpatient care institution                                         0.011635\n",
       "Not Mapped                                                                                                   0.009718\n",
       "Discharged/transferred to ICF                                                                                0.008009\n",
       "Left AMA                                                                                                     0.006122\n",
       "Discharged/transferred to a long term care hospital.                                                         0.004049\n",
       "Hospice / home                                                                                               0.003921\n",
       "Hospice / medical facility                                                                                   0.003655\n",
       "Discharged/transferred/referred to a psychiatric hospital of psychiatric distinct part unit of a hospital    0.001366\n",
       "Discharged/transferred to home under care of Home IV provider                                                0.001061\n",
       "Discharged/transferred within this institution to Medicare approved swing bed                                0.000619\n",
       "Discharged/transferred to a nursing facility certified under Medicaid but not certified under Medicare.      0.000472\n",
       "Admitted as an inpatient to this hospital                                                                    0.000206\n",
       "Discharged/transferred/referred to this institution for outpatient services                                  0.000138\n",
       "Discharged/transferred/referred another institution for outpatient services                                  0.000108\n",
       "Expired at home. Medicaid only, hospice.                                                                     0.000079\n",
       "Neonate discharged to another hospital for neonatal aftercare                                                0.000059\n",
       "Discharged/transferred to a federal health care facility.                                                    0.000049\n",
       "Still patient or expected to return for outpatient services                                                  0.000029\n",
       "Expired in a medical facility. Medicaid only, hospice.                                                       0.000020\n",
       "Name: discharge_disposition_id, dtype: float64"
      ]
     },
     "execution_count": 20,
     "metadata": {},
     "output_type": "execute_result"
    }
   ],
   "source": [
    "df['discharge_disposition_id'] = df.discharge_disposition_id.map(dict(zip(id_mappings['discharge_disposition_id'].discharge_disposition_id, id_mappings['discharge_disposition_id'].description)))\n",
    "df.loc[df.discharge_disposition_id.isnull(), 'discharge_disposition_id'] = 'Unknown/Invalid'\n",
    "df['discharge_disposition_id'] = df.discharge_disposition_id.astype('category')\n",
    "df.discharge_disposition_id.value_counts(normalize=True)"
   ]
  },
  {
   "cell_type": "code",
   "execution_count": 21,
   "metadata": {},
   "outputs": [
    {
     "data": {
      "image/png": "[encoded data removed]",
      "text/plain": [
       "<Figure size 432x288 with 1 Axes>"
      ]
     },
     "metadata": {},
     "output_type": "display_data"
    }
   ],
   "source": [
    "_ = plt.hist(df.discharge_disposition_id, bins=100)\n",
    "_ = plt.xticks(rotation='vertical')"
   ]
  },
  {
   "cell_type": "markdown",
   "metadata": {},
   "source": [
    "- `admission_source_id` - Description of where the patient was admitted from for encounter"
   ]
  },
  {
   "cell_type": "code",
   "execution_count": 22,
   "metadata": {},
   "outputs": [
    {
     "data": {
      "text/plain": [
       "array([' Physician Referral', 'Clinic Referral', 'HMO Referral',\n",
       "       'Transfer from a hospital',\n",
       "       ' Transfer from a Skilled Nursing Facility (SNF)',\n",
       "       ' Transfer from another health care facility', ' Emergency Room',\n",
       "       ' Court/Law Enforcement', ' Not Available',\n",
       "       ' Transfer from critial access hospital', 'Normal Delivery',\n",
       "       ' Premature Delivery', ' Sick Baby', ' Extramural Birth',\n",
       "       'Not Available', nan, ' Transfer From Another Home Health Agency',\n",
       "       'Readmission to Same Home Health Agency', ' Not Mapped',\n",
       "       'Unknown/Invalid',\n",
       "       ' Transfer from hospital inpt/same fac reslt in a sep claim',\n",
       "       ' Born inside this hospital', ' Born outside this hospital',\n",
       "       ' Transfer from Ambulatory Surgery Center',\n",
       "       'Transfer from Hospice'], dtype=object)"
      ]
     },
     "execution_count": 22,
     "metadata": {},
     "output_type": "execute_result"
    }
   ],
   "source": [
    "id_mappings['admission_source_id'].description.unique()"
   ]
  },
  {
   "cell_type": "code",
   "execution_count": 23,
   "metadata": {},
   "outputs": [
    {
     "data": {
      "text/plain": [
       " Emergency Room                                               0.564963\n",
       " Physician Referral                                           0.290519\n",
       "Not Available                                                 0.066633\n",
       "Transfer from a hospital                                      0.031317\n",
       " Transfer from another health care facility                   0.022247\n",
       "Clinic Referral                                               0.010848\n",
       " Transfer from a Skilled Nursing Facility (SNF)               0.008402\n",
       "HMO Referral                                                  0.001838\n",
       " Not Mapped                                                   0.001582\n",
       " Not Available                                                0.001228\n",
       " Court/Law Enforcement                                        0.000157\n",
       " Transfer from hospital inpt/same fac reslt in a sep claim    0.000118\n",
       " Transfer from critial access hospital                        0.000079\n",
       " Transfer from Ambulatory Surgery Center                      0.000020\n",
       "Normal Delivery                                               0.000020\n",
       " Extramural Birth                                             0.000020\n",
       " Sick Baby                                                    0.000010\n",
       "Name: admission_source_id, dtype: float64"
      ]
     },
     "execution_count": 23,
     "metadata": {},
     "output_type": "execute_result"
    }
   ],
   "source": [
    "df['admission_source_id'] = df.admission_source_id.map(dict(zip(id_mappings['admission_source_id'].admission_source_id, id_mappings['admission_source_id'].description)))\n",
    "df.loc[df.admission_source_id.isnull(), 'admission_source_id'] = 'Not Available'\n",
    "df['admission_source_id'] = df.admission_source_id.astype('category')\n",
    "df.admission_source_id.value_counts(normalize=True)"
   ]
  },
  {
   "cell_type": "code",
   "execution_count": 24,
   "metadata": {},
   "outputs": [
    {
     "data": {
      "image/png": "[encoded data removed]",
      "text/plain": [
       "<Figure size 432x288 with 1 Axes>"
      ]
     },
     "metadata": {},
     "output_type": "display_data"
    }
   ],
   "source": [
    "_ = plt.hist(df.admission_source_id, bins=100)\n",
    "_ = plt.xticks(rotation='vertical')"
   ]
  },
  {
   "cell_type": "markdown",
   "metadata": {},
   "source": [
    "- `diag_1`, `diag_2`, `diag_3` - The primary, secondary, and tertiary diagnoses for the patient\n",
    "\n",
    "These are nominal values that are represented by distinct integer values. We should convert these to categorical."
   ]
  },
  {
   "cell_type": "code",
   "execution_count": 25,
   "metadata": {},
   "outputs": [],
   "source": [
    "df['diag_1'] = df['diag_1'].astype('category')\n",
    "df['diag_2'] = df['diag_2'].astype('category')\n",
    "df['diag_3'] = df['diag_3'].astype('category')"
   ]
  },
  {
   "cell_type": "markdown",
   "metadata": {},
   "source": [
    "- `gender` - The gender of the patient"
   ]
  },
  {
   "cell_type": "code",
   "execution_count": 26,
   "metadata": {},
   "outputs": [
    {
     "data": {
      "text/plain": [
       "Female             0.537586\n",
       "Male               0.462384\n",
       "Unknown/Invalid    0.000029\n",
       "Name: gender, dtype: float64"
      ]
     },
     "execution_count": 26,
     "metadata": {},
     "output_type": "execute_result"
    }
   ],
   "source": [
    "df.gender.value_counts(normalize=True)"
   ]
  },
  {
   "cell_type": "code",
   "execution_count": 27,
   "metadata": {},
   "outputs": [
    {
     "data": {
      "text/html": [
       "<div>\n",
       "<style scoped>\n",
       "    .dataframe tbody tr th:only-of-type {\n",
       "        vertical-align: middle;\n",
       "    }\n",
       "\n",
       "    .dataframe tbody tr th {\n",
       "        vertical-align: top;\n",
       "    }\n",
       "\n",
       "    .dataframe thead th {\n",
       "        text-align: right;\n",
       "    }\n",
       "</style>\n",
       "<table border=\"1\" class=\"dataframe\">\n",
       "  <thead>\n",
       "    <tr style=\"text-align: right;\">\n",
       "      <th></th>\n",
       "      <th>patient_nbr</th>\n",
       "      <th>race</th>\n",
       "      <th>gender</th>\n",
       "      <th>age</th>\n",
       "      <th>admission_type_id</th>\n",
       "      <th>discharge_disposition_id</th>\n",
       "      <th>admission_source_id</th>\n",
       "      <th>time_in_hospital</th>\n",
       "      <th>medical_specialty</th>\n",
       "      <th>num_lab_procedures</th>\n",
       "      <th>num_procedures</th>\n",
       "      <th>num_medications</th>\n",
       "      <th>number_outpatient</th>\n",
       "      <th>number_emergency</th>\n",
       "      <th>number_inpatient</th>\n",
       "      <th>diag_1</th>\n",
       "      <th>diag_2</th>\n",
       "      <th>diag_3</th>\n",
       "      <th>number_diagnoses</th>\n",
       "      <th>max_glu_serum</th>\n",
       "      <th>A1Cresult</th>\n",
       "      <th>metformin</th>\n",
       "      <th>repaglinide</th>\n",
       "      <th>nateglinide</th>\n",
       "      <th>chlorpropamide</th>\n",
       "      <th>glimepiride</th>\n",
       "      <th>acetohexamide</th>\n",
       "      <th>glipizide</th>\n",
       "      <th>glyburide</th>\n",
       "      <th>tolbutamide</th>\n",
       "      <th>pioglitazone</th>\n",
       "      <th>rosiglitazone</th>\n",
       "      <th>acarbose</th>\n",
       "      <th>miglitol</th>\n",
       "      <th>troglitazone</th>\n",
       "      <th>tolazamide</th>\n",
       "      <th>examide</th>\n",
       "      <th>citoglipton</th>\n",
       "      <th>insulin</th>\n",
       "      <th>glyburide-metformin</th>\n",
       "      <th>glipizide-metformin</th>\n",
       "      <th>glimepiride-pioglitazone</th>\n",
       "      <th>metformin-rosiglitazone</th>\n",
       "      <th>metformin-pioglitazone</th>\n",
       "      <th>change</th>\n",
       "      <th>diabetesMed</th>\n",
       "      <th>readmitted</th>\n",
       "    </tr>\n",
       "    <tr>\n",
       "      <th>encounter_id</th>\n",
       "      <th></th>\n",
       "      <th></th>\n",
       "      <th></th>\n",
       "      <th></th>\n",
       "      <th></th>\n",
       "      <th></th>\n",
       "      <th></th>\n",
       "      <th></th>\n",
       "      <th></th>\n",
       "      <th></th>\n",
       "      <th></th>\n",
       "      <th></th>\n",
       "      <th></th>\n",
       "      <th></th>\n",
       "      <th></th>\n",
       "      <th></th>\n",
       "      <th></th>\n",
       "      <th></th>\n",
       "      <th></th>\n",
       "      <th></th>\n",
       "      <th></th>\n",
       "      <th></th>\n",
       "      <th></th>\n",
       "      <th></th>\n",
       "      <th></th>\n",
       "      <th></th>\n",
       "      <th></th>\n",
       "      <th></th>\n",
       "      <th></th>\n",
       "      <th></th>\n",
       "      <th></th>\n",
       "      <th></th>\n",
       "      <th></th>\n",
       "      <th></th>\n",
       "      <th></th>\n",
       "      <th></th>\n",
       "      <th></th>\n",
       "      <th></th>\n",
       "      <th></th>\n",
       "      <th></th>\n",
       "      <th></th>\n",
       "      <th></th>\n",
       "      <th></th>\n",
       "      <th></th>\n",
       "      <th></th>\n",
       "      <th></th>\n",
       "      <th></th>\n",
       "    </tr>\n",
       "  </thead>\n",
       "  <tbody>\n",
       "    <tr>\n",
       "      <th>98634858</th>\n",
       "      <td>100695042</td>\n",
       "      <td>Other</td>\n",
       "      <td>Unknown/Invalid</td>\n",
       "      <td>7</td>\n",
       "      <td>Elective</td>\n",
       "      <td>Discharged to home</td>\n",
       "      <td>Physician Referral</td>\n",
       "      <td>1</td>\n",
       "      <td>Cardiology</td>\n",
       "      <td>5</td>\n",
       "      <td>5</td>\n",
       "      <td>22</td>\n",
       "      <td>0</td>\n",
       "      <td>0</td>\n",
       "      <td>0</td>\n",
       "      <td>414</td>\n",
       "      <td>411</td>\n",
       "      <td>401</td>\n",
       "      <td>4</td>\n",
       "      <td>NaN</td>\n",
       "      <td>NaN</td>\n",
       "      <td>No</td>\n",
       "      <td>No</td>\n",
       "      <td>No</td>\n",
       "      <td>No</td>\n",
       "      <td>No</td>\n",
       "      <td>No</td>\n",
       "      <td>Steady</td>\n",
       "      <td>No</td>\n",
       "      <td>No</td>\n",
       "      <td>Steady</td>\n",
       "      <td>No</td>\n",
       "      <td>No</td>\n",
       "      <td>No</td>\n",
       "      <td>No</td>\n",
       "      <td>No</td>\n",
       "      <td>No</td>\n",
       "      <td>No</td>\n",
       "      <td>No</td>\n",
       "      <td>No</td>\n",
       "      <td>No</td>\n",
       "      <td>No</td>\n",
       "      <td>No</td>\n",
       "      <td>No</td>\n",
       "      <td>1</td>\n",
       "      <td>1</td>\n",
       "      <td>NO</td>\n",
       "    </tr>\n",
       "    <tr>\n",
       "      <th>226864668</th>\n",
       "      <td>60524946</td>\n",
       "      <td>NaN</td>\n",
       "      <td>Unknown/Invalid</td>\n",
       "      <td>6</td>\n",
       "      <td>Emergency</td>\n",
       "      <td>Discharged to home</td>\n",
       "      <td>Emergency Room</td>\n",
       "      <td>1</td>\n",
       "      <td>NaN</td>\n",
       "      <td>38</td>\n",
       "      <td>1</td>\n",
       "      <td>6</td>\n",
       "      <td>0</td>\n",
       "      <td>0</td>\n",
       "      <td>0</td>\n",
       "      <td>808</td>\n",
       "      <td>873</td>\n",
       "      <td>E813</td>\n",
       "      <td>5</td>\n",
       "      <td>NaN</td>\n",
       "      <td>NaN</td>\n",
       "      <td>No</td>\n",
       "      <td>No</td>\n",
       "      <td>No</td>\n",
       "      <td>No</td>\n",
       "      <td>No</td>\n",
       "      <td>No</td>\n",
       "      <td>No</td>\n",
       "      <td>No</td>\n",
       "      <td>No</td>\n",
       "      <td>No</td>\n",
       "      <td>No</td>\n",
       "      <td>No</td>\n",
       "      <td>No</td>\n",
       "      <td>No</td>\n",
       "      <td>No</td>\n",
       "      <td>No</td>\n",
       "      <td>No</td>\n",
       "      <td>No</td>\n",
       "      <td>No</td>\n",
       "      <td>No</td>\n",
       "      <td>No</td>\n",
       "      <td>No</td>\n",
       "      <td>No</td>\n",
       "      <td>0</td>\n",
       "      <td>0</td>\n",
       "      <td>NO</td>\n",
       "    </tr>\n",
       "    <tr>\n",
       "      <th>257364294</th>\n",
       "      <td>78119847</td>\n",
       "      <td>NaN</td>\n",
       "      <td>Unknown/Invalid</td>\n",
       "      <td>7</td>\n",
       "      <td>Emergency</td>\n",
       "      <td>Discharged/transferred to another rehab fac in...</td>\n",
       "      <td>Emergency Room</td>\n",
       "      <td>8</td>\n",
       "      <td>NaN</td>\n",
       "      <td>59</td>\n",
       "      <td>2</td>\n",
       "      <td>21</td>\n",
       "      <td>0</td>\n",
       "      <td>0</td>\n",
       "      <td>0</td>\n",
       "      <td>850</td>\n",
       "      <td>805</td>\n",
       "      <td>808</td>\n",
       "      <td>9</td>\n",
       "      <td>NaN</td>\n",
       "      <td>NaN</td>\n",
       "      <td>Steady</td>\n",
       "      <td>No</td>\n",
       "      <td>No</td>\n",
       "      <td>No</td>\n",
       "      <td>No</td>\n",
       "      <td>No</td>\n",
       "      <td>No</td>\n",
       "      <td>No</td>\n",
       "      <td>No</td>\n",
       "      <td>No</td>\n",
       "      <td>Steady</td>\n",
       "      <td>No</td>\n",
       "      <td>No</td>\n",
       "      <td>No</td>\n",
       "      <td>No</td>\n",
       "      <td>No</td>\n",
       "      <td>No</td>\n",
       "      <td>No</td>\n",
       "      <td>No</td>\n",
       "      <td>No</td>\n",
       "      <td>No</td>\n",
       "      <td>No</td>\n",
       "      <td>No</td>\n",
       "      <td>1</td>\n",
       "      <td>1</td>\n",
       "      <td>NO</td>\n",
       "    </tr>\n",
       "  </tbody>\n",
       "</table>\n",
       "</div>"
      ],
      "text/plain": [
       "              patient_nbr   race           gender  age admission_type_id  \\\n",
       "encounter_id                                                               \n",
       "98634858        100695042  Other  Unknown/Invalid    7          Elective   \n",
       "226864668        60524946    NaN  Unknown/Invalid    6         Emergency   \n",
       "257364294        78119847    NaN  Unknown/Invalid    7         Emergency   \n",
       "\n",
       "                                       discharge_disposition_id  \\\n",
       "encounter_id                                                      \n",
       "98634858                                     Discharged to home   \n",
       "226864668                                    Discharged to home   \n",
       "257364294     Discharged/transferred to another rehab fac in...   \n",
       "\n",
       "              admission_source_id  time_in_hospital medical_specialty  \\\n",
       "encounter_id                                                            \n",
       "98634858       Physician Referral                 1        Cardiology   \n",
       "226864668          Emergency Room                 1               NaN   \n",
       "257364294          Emergency Room                 8               NaN   \n",
       "\n",
       "              num_lab_procedures  num_procedures  num_medications  \\\n",
       "encounter_id                                                        \n",
       "98634858                       5               5               22   \n",
       "226864668                     38               1                6   \n",
       "257364294                     59               2               21   \n",
       "\n",
       "              number_outpatient  number_emergency  number_inpatient diag_1  \\\n",
       "encounter_id                                                                 \n",
       "98634858                      0                 0                 0    414   \n",
       "226864668                     0                 0                 0    808   \n",
       "257364294                     0                 0                 0    850   \n",
       "\n",
       "             diag_2 diag_3  number_diagnoses max_glu_serum A1Cresult  \\\n",
       "encounter_id                                                           \n",
       "98634858        411    401                 4           NaN       NaN   \n",
       "226864668       873   E813                 5           NaN       NaN   \n",
       "257364294       805    808                 9           NaN       NaN   \n",
       "\n",
       "             metformin repaglinide nateglinide chlorpropamide glimepiride  \\\n",
       "encounter_id                                                                \n",
       "98634858            No          No          No             No          No   \n",
       "226864668           No          No          No             No          No   \n",
       "257364294       Steady          No          No             No          No   \n",
       "\n",
       "             acetohexamide glipizide glyburide tolbutamide pioglitazone  \\\n",
       "encounter_id                                                              \n",
       "98634858                No    Steady        No          No       Steady   \n",
       "226864668               No        No        No          No           No   \n",
       "257364294               No        No        No          No           No   \n",
       "\n",
       "             rosiglitazone acarbose miglitol troglitazone tolazamide examide  \\\n",
       "encounter_id                                                                   \n",
       "98634858                No       No       No           No         No      No   \n",
       "226864668               No       No       No           No         No      No   \n",
       "257364294           Steady       No       No           No         No      No   \n",
       "\n",
       "             citoglipton insulin glyburide-metformin glipizide-metformin  \\\n",
       "encounter_id                                                               \n",
       "98634858              No      No                  No                  No   \n",
       "226864668             No      No                  No                  No   \n",
       "257364294             No      No                  No                  No   \n",
       "\n",
       "             glimepiride-pioglitazone metformin-rosiglitazone  \\\n",
       "encounter_id                                                    \n",
       "98634858                           No                      No   \n",
       "226864668                          No                      No   \n",
       "257364294                          No                      No   \n",
       "\n",
       "             metformin-pioglitazone change diabetesMed readmitted  \n",
       "encounter_id                                                       \n",
       "98634858                         No      1           1         NO  \n",
       "226864668                        No      0           0         NO  \n",
       "257364294                        No      1           1         NO  "
      ]
     },
     "execution_count": 27,
     "metadata": {},
     "output_type": "execute_result"
    }
   ],
   "source": [
    "df[df.gender == 'Unknown/Invalid']"
   ]
  },
  {
   "cell_type": "code",
   "execution_count": 28,
   "metadata": {},
   "outputs": [],
   "source": [
    "df['gender'] = df.gender.astype('category')"
   ]
  },
  {
   "cell_type": "markdown",
   "metadata": {},
   "source": [
    "- `race` - The race/ethnicity of the patient"
   ]
  },
  {
   "cell_type": "code",
   "execution_count": 29,
   "metadata": {},
   "outputs": [
    {
     "data": {
      "text/plain": [
       "Caucasian          0.764868\n",
       "AfricanAmerican    0.193079\n",
       "Hispanic           0.020474\n",
       "Other              0.015137\n",
       "Asian              0.006443\n",
       "Name: race, dtype: float64"
      ]
     },
     "execution_count": 29,
     "metadata": {},
     "output_type": "execute_result"
    }
   ],
   "source": [
    "df.race.value_counts(normalize=True)"
   ]
  },
  {
   "cell_type": "code",
   "execution_count": 30,
   "metadata": {},
   "outputs": [],
   "source": [
    "df['race'] = df.race.astype('category')"
   ]
  },
  {
   "cell_type": "markdown",
   "metadata": {},
   "source": [
    "- `readmitted` - if the patient was readmitted back into the hospital {NO (not readmitted), <30 (readmitted within less than days, >30 (readmitted after more than 30 days)}"
   ]
  },
  {
   "cell_type": "code",
   "execution_count": 31,
   "metadata": {},
   "outputs": [
    {
     "data": {
      "text/plain": [
       "NO     0.539119\n",
       ">30    0.349282\n",
       "<30    0.111599\n",
       "Name: readmitted, dtype: float64"
      ]
     },
     "execution_count": 31,
     "metadata": {},
     "output_type": "execute_result"
    }
   ],
   "source": [
    "df.readmitted.value_counts(normalize=True)"
   ]
  },
  {
   "cell_type": "code",
   "execution_count": 32,
   "metadata": {},
   "outputs": [],
   "source": [
    "df['is_readmitted'] = df['readmitted']\n",
    "df.loc[df.is_readmitted == 'NO', 'is_readmitted'] = 0\n",
    "df.loc[((df.is_readmitted == '>30') | (df.is_readmitted == '<30')), 'is_readmitted'] = 1\n",
    "df['is_readmitted'] = df.is_readmitted.astype(int)\n",
    "\n",
    "df['is_readmitted_early'] = df['readmitted']\n",
    "df.loc[((df.is_readmitted_early == 'NO') | (df.is_readmitted_early == '>30')), 'is_readmitted_early'] = 0\n",
    "df.loc[df.is_readmitted_early == '<30', 'is_readmitted_early'] = 1\n",
    "df['is_readmitted_early'] = df.is_readmitted_early.astype(int)"
   ]
  },
  {
   "cell_type": "code",
   "execution_count": 33,
   "metadata": {},
   "outputs": [],
   "source": [
    "df['readmitted'] = df.readmitted.astype('category')"
   ]
  },
  {
   "cell_type": "markdown",
   "metadata": {},
   "source": [
    "- `max_glu_serum` - Results for a test to measure the amount of glucose in the patient's blood (milligrams/deciliter), e.g. {None (test not taken), Norm (normal level of blood glucose), >200 (mg/dL), >300 (mg/dL)}. A glucose level over 200 mg/dL typically indicates diabetes."
   ]
  },
  {
   "cell_type": "code",
   "execution_count": 34,
   "metadata": {},
   "outputs": [
    {
     "data": {
      "text/plain": [
       "Norm    0.485784\n",
       ">200    0.277778\n",
       ">300    0.236438\n",
       "Name: max_glu_serum, dtype: float64"
      ]
     },
     "execution_count": 34,
     "metadata": {},
     "output_type": "execute_result"
    }
   ],
   "source": [
    "df.max_glu_serum.value_counts(normalize=True)"
   ]
  },
  {
   "cell_type": "markdown",
   "metadata": {},
   "source": [
    "### 3. Handling outliers in continuous features\n",
    "- `time_in_hospital` - The number of days patient was in the hospital\n",
    "\n",
    "We should rename this column for more clarity."
   ]
  },
  {
   "cell_type": "code",
   "execution_count": 35,
   "metadata": {},
   "outputs": [],
   "source": [
    "df = df.rename(columns={'time_in_hospital': 'days_in_hospital'})"
   ]
  },
  {
   "cell_type": "code",
   "execution_count": 36,
   "metadata": {},
   "outputs": [
    {
     "data": {
      "text/html": [
       "<div>\n",
       "<style scoped>\n",
       "    .dataframe tbody tr th:only-of-type {\n",
       "        vertical-align: middle;\n",
       "    }\n",
       "\n",
       "    .dataframe tbody tr th {\n",
       "        vertical-align: top;\n",
       "    }\n",
       "\n",
       "    .dataframe thead th {\n",
       "        text-align: right;\n",
       "    }\n",
       "</style>\n",
       "<table border=\"1\" class=\"dataframe\">\n",
       "  <thead>\n",
       "    <tr style=\"text-align: right;\">\n",
       "      <th></th>\n",
       "      <th>age</th>\n",
       "      <th>days_in_hospital</th>\n",
       "      <th>num_lab_procedures</th>\n",
       "      <th>num_procedures</th>\n",
       "      <th>num_medications</th>\n",
       "      <th>number_outpatient</th>\n",
       "      <th>number_emergency</th>\n",
       "      <th>number_inpatient</th>\n",
       "      <th>number_diagnoses</th>\n",
       "    </tr>\n",
       "  </thead>\n",
       "  <tbody>\n",
       "    <tr>\n",
       "      <th>count</th>\n",
       "      <td>101766.000000</td>\n",
       "      <td>101766.000000</td>\n",
       "      <td>101766.000000</td>\n",
       "      <td>101766.000000</td>\n",
       "      <td>101766.000000</td>\n",
       "      <td>101766.000000</td>\n",
       "      <td>101766.000000</td>\n",
       "      <td>101766.000000</td>\n",
       "      <td>101766.000000</td>\n",
       "    </tr>\n",
       "    <tr>\n",
       "      <th>mean</th>\n",
       "      <td>6.096702</td>\n",
       "      <td>4.395987</td>\n",
       "      <td>43.095641</td>\n",
       "      <td>1.339730</td>\n",
       "      <td>16.021844</td>\n",
       "      <td>0.369357</td>\n",
       "      <td>0.197836</td>\n",
       "      <td>0.635566</td>\n",
       "      <td>7.422607</td>\n",
       "    </tr>\n",
       "    <tr>\n",
       "      <th>std</th>\n",
       "      <td>1.594084</td>\n",
       "      <td>2.985108</td>\n",
       "      <td>19.674362</td>\n",
       "      <td>1.705807</td>\n",
       "      <td>8.127566</td>\n",
       "      <td>1.267265</td>\n",
       "      <td>0.930472</td>\n",
       "      <td>1.262863</td>\n",
       "      <td>1.933600</td>\n",
       "    </tr>\n",
       "    <tr>\n",
       "      <th>min</th>\n",
       "      <td>0.000000</td>\n",
       "      <td>1.000000</td>\n",
       "      <td>1.000000</td>\n",
       "      <td>0.000000</td>\n",
       "      <td>1.000000</td>\n",
       "      <td>0.000000</td>\n",
       "      <td>0.000000</td>\n",
       "      <td>0.000000</td>\n",
       "      <td>1.000000</td>\n",
       "    </tr>\n",
       "    <tr>\n",
       "      <th>25%</th>\n",
       "      <td>5.000000</td>\n",
       "      <td>2.000000</td>\n",
       "      <td>31.000000</td>\n",
       "      <td>0.000000</td>\n",
       "      <td>10.000000</td>\n",
       "      <td>0.000000</td>\n",
       "      <td>0.000000</td>\n",
       "      <td>0.000000</td>\n",
       "      <td>6.000000</td>\n",
       "    </tr>\n",
       "    <tr>\n",
       "      <th>50%</th>\n",
       "      <td>6.000000</td>\n",
       "      <td>4.000000</td>\n",
       "      <td>44.000000</td>\n",
       "      <td>1.000000</td>\n",
       "      <td>15.000000</td>\n",
       "      <td>0.000000</td>\n",
       "      <td>0.000000</td>\n",
       "      <td>0.000000</td>\n",
       "      <td>8.000000</td>\n",
       "    </tr>\n",
       "    <tr>\n",
       "      <th>75%</th>\n",
       "      <td>7.000000</td>\n",
       "      <td>6.000000</td>\n",
       "      <td>57.000000</td>\n",
       "      <td>2.000000</td>\n",
       "      <td>20.000000</td>\n",
       "      <td>0.000000</td>\n",
       "      <td>0.000000</td>\n",
       "      <td>1.000000</td>\n",
       "      <td>9.000000</td>\n",
       "    </tr>\n",
       "    <tr>\n",
       "      <th>max</th>\n",
       "      <td>9.000000</td>\n",
       "      <td>14.000000</td>\n",
       "      <td>132.000000</td>\n",
       "      <td>6.000000</td>\n",
       "      <td>81.000000</td>\n",
       "      <td>42.000000</td>\n",
       "      <td>76.000000</td>\n",
       "      <td>21.000000</td>\n",
       "      <td>16.000000</td>\n",
       "    </tr>\n",
       "  </tbody>\n",
       "</table>\n",
       "</div>"
      ],
      "text/plain": [
       "                 age  days_in_hospital  num_lab_procedures  num_procedures  \\\n",
       "count  101766.000000     101766.000000       101766.000000   101766.000000   \n",
       "mean        6.096702          4.395987           43.095641        1.339730   \n",
       "std         1.594084          2.985108           19.674362        1.705807   \n",
       "min         0.000000          1.000000            1.000000        0.000000   \n",
       "25%         5.000000          2.000000           31.000000        0.000000   \n",
       "50%         6.000000          4.000000           44.000000        1.000000   \n",
       "75%         7.000000          6.000000           57.000000        2.000000   \n",
       "max         9.000000         14.000000          132.000000        6.000000   \n",
       "\n",
       "       num_medications  number_outpatient  number_emergency  number_inpatient  \\\n",
       "count    101766.000000      101766.000000     101766.000000     101766.000000   \n",
       "mean         16.021844           0.369357          0.197836          0.635566   \n",
       "std           8.127566           1.267265          0.930472          1.262863   \n",
       "min           1.000000           0.000000          0.000000          0.000000   \n",
       "25%          10.000000           0.000000          0.000000          0.000000   \n",
       "50%          15.000000           0.000000          0.000000          0.000000   \n",
       "75%          20.000000           0.000000          0.000000          1.000000   \n",
       "max          81.000000          42.000000         76.000000         21.000000   \n",
       "\n",
       "       number_diagnoses  \n",
       "count     101766.000000  \n",
       "mean           7.422607  \n",
       "std            1.933600  \n",
       "min            1.000000  \n",
       "25%            6.000000  \n",
       "50%            8.000000  \n",
       "75%            9.000000  \n",
       "max           16.000000  "
      ]
     },
     "execution_count": 36,
     "metadata": {},
     "output_type": "execute_result"
    }
   ],
   "source": [
    "continuous_features = df._get_numeric_data().drop(columns=['patient_nbr', 'is_readmitted', 'is_readmitted_early'])\n",
    "continuous_features.describe()"
   ]
  },
  {
   "cell_type": "code",
   "execution_count": 37,
   "metadata": {},
   "outputs": [
    {
     "data": {
      "image/png": "[encoded data removed]",
      "text/plain": [
       "<Figure size 1080x864 with 9 Axes>"
      ]
     },
     "metadata": {},
     "output_type": "display_data"
    }
   ],
   "source": [
    "fig, axes = plt.subplots(3, 3)\n",
    "fig.set_figheight(12)\n",
    "fig.set_figwidth(15)\n",
    "\n",
    "for i, c in enumerate(continuous_features.columns):\n",
    "    _ = sns.boxplot(y=c, data=continuous_features, ax=axes[i//3, i%3],\n",
    "                    showmeans=True, boxprops=dict(alpha=.7), width=.3,\n",
    "                    flierprops=dict(markersize=3,alpha=0.1,\n",
    "              linestyle='none'))"
   ]
  },
  {
   "cell_type": "code",
   "execution_count": 38,
   "metadata": {},
   "outputs": [],
   "source": [
    "def outliers(df, feature):\n",
    "    q1 = df[feature].quantile(0.25)\n",
    "    q3 = df[feature].quantile(0.75)\n",
    "    iqr = q3-q1\n",
    "    minx = q1 - 1.5*iqr\n",
    "    maxx = q3 + 1.5*iqr\n",
    "    return df[(df[feature] > maxx) | (df[feature] < minx)]"
   ]
  },
  {
   "cell_type": "code",
   "execution_count": 39,
   "metadata": {},
   "outputs": [
    {
     "data": {
      "text/plain": [
       "{'age': 852,\n",
       " 'days_in_hospital': 2252,\n",
       " 'num_lab_procedures': 143,\n",
       " 'num_procedures': 4954,\n",
       " 'num_medications': 2557,\n",
       " 'number_outpatient': 16739,\n",
       " 'number_emergency': 11383,\n",
       " 'number_inpatient': 7049,\n",
       " 'number_diagnoses': 281}"
      ]
     },
     "execution_count": 39,
     "metadata": {},
     "output_type": "execute_result"
    }
   ],
   "source": [
    "feature_outliers = dict()\n",
    "for i, c in enumerate(continuous_features.columns):\n",
    "    num_outliers = outliers(df, c).shape[0]\n",
    "    feature_outliers[c] = num_outliers\n",
    "feature_outliers"
   ]
  },
  {
   "cell_type": "markdown",
   "metadata": {},
   "source": [
    "### 4. Entry independence"
   ]
  },
  {
   "cell_type": "code",
   "execution_count": 40,
   "metadata": {},
   "outputs": [
    {
     "data": {
      "text/plain": [
       "(71518, 48)"
      ]
     },
     "execution_count": 40,
     "metadata": {},
     "output_type": "execute_result"
    }
   ],
   "source": [
    "single_encounter_df = df.sort_values(by='encounter_id', axis='index').drop_duplicates(subset=['patient_nbr'], keep='first')\n",
    "single_encounter_df = single_encounter_df.reset_index()\n",
    "single_encounter_df = single_encounter_df.set_index(['encounter_id', 'patient_nbr'])\n",
    "single_encounter_df.shape"
   ]
  },
  {
   "cell_type": "code",
   "execution_count": 41,
   "metadata": {},
   "outputs": [
    {
     "data": {
      "text/plain": [
       "{'age': 689,\n",
       " 'days_in_hospital': 1464,\n",
       " 'num_lab_procedures': 114,\n",
       " 'num_procedures': 3956,\n",
       " 'num_medications': 1925,\n",
       " 'number_outpatient': 9306,\n",
       " 'number_emergency': 5204,\n",
       " 'number_inpatient': 8441,\n",
       " 'number_diagnoses': 236}"
      ]
     },
     "execution_count": 41,
     "metadata": {},
     "output_type": "execute_result"
    }
   ],
   "source": [
    "feature_outliers = dict()\n",
    "for i, c in enumerate(continuous_features.columns):\n",
    "    num_outliers = outliers(single_encounter_df, c).shape[0]\n",
    "    feature_outliers[c] = num_outliers\n",
    "feature_outliers"
   ]
  },
  {
   "cell_type": "code",
   "execution_count": 42,
   "metadata": {},
   "outputs": [
    {
     "data": {
      "image/png": "[encoded data removed]",
      "text/plain": [
       "<Figure size 432x288 with 1 Axes>"
      ]
     },
     "metadata": {},
     "output_type": "display_data"
    }
   ],
   "source": [
    "_ = single_encounter_df.number_emergency.hist(bins=40)"
   ]
  },
  {
   "cell_type": "code",
   "execution_count": 43,
   "metadata": {},
   "outputs": [
    {
     "data": {
      "text/plain": [
       "0     66314\n",
       "1      3965\n",
       "2       804\n",
       "3       246\n",
       "4        96\n",
       "5        33\n",
       "6        26\n",
       "8         9\n",
       "7         8\n",
       "10        5\n",
       "9         4\n",
       "11        2\n",
       "13        1\n",
       "16        1\n",
       "20        1\n",
       "25        1\n",
       "37        1\n",
       "42        1\n",
       "Name: number_emergency, dtype: int64"
      ]
     },
     "execution_count": 43,
     "metadata": {},
     "output_type": "execute_result"
    }
   ],
   "source": [
    "single_encounter_df.number_emergency.value_counts()"
   ]
  },
  {
   "cell_type": "code",
   "execution_count": 44,
   "metadata": {},
   "outputs": [
    {
     "data": {
      "text/plain": [
       "<AxesSubplot:>"
      ]
     },
     "execution_count": 44,
     "metadata": {},
     "output_type": "execute_result"
    },
    {
     "data": {
      "image/png": "[encoded data removed]",
      "text/plain": [
       "<Figure size 432x288 with 1 Axes>"
      ]
     },
     "metadata": {},
     "output_type": "display_data"
    }
   ],
   "source": [
    "single_encounter_df.number_outpatient.hist(bins=40)"
   ]
  },
  {
   "cell_type": "code",
   "execution_count": 45,
   "metadata": {},
   "outputs": [
    {
     "data": {
      "text/plain": [
       "0     62212\n",
       "1      4867\n",
       "2      2025\n",
       "3      1116\n",
       "4       585\n",
       "5       288\n",
       "6       128\n",
       "7        73\n",
       "8        57\n",
       "9        37\n",
       "10       28\n",
       "11       19\n",
       "12       14\n",
       "13       13\n",
       "14       10\n",
       "15       10\n",
       "16        8\n",
       "17        4\n",
       "20        4\n",
       "18        2\n",
       "21        2\n",
       "22        2\n",
       "24        2\n",
       "27        2\n",
       "33        2\n",
       "19        1\n",
       "23        1\n",
       "25        1\n",
       "26        1\n",
       "29        1\n",
       "35        1\n",
       "36        1\n",
       "42        1\n",
       "Name: number_outpatient, dtype: int64"
      ]
     },
     "execution_count": 45,
     "metadata": {},
     "output_type": "execute_result"
    }
   ],
   "source": [
    "single_encounter_df.number_outpatient.value_counts()"
   ]
  },
  {
   "cell_type": "code",
   "execution_count": 46,
   "metadata": {},
   "outputs": [
    {
     "data": {
      "text/plain": [
       "['examide', 'citoglipton', 'glimepiride-pioglitazone']"
      ]
     },
     "execution_count": 46,
     "metadata": {},
     "output_type": "execute_result"
    }
   ],
   "source": [
    "features_with_homogeneity = homogeneous_features(single_encounter_df)\n",
    "single_encounter_df = single_encounter_df.drop(columns=features_with_homogeneity)\n",
    "features_with_homogeneity"
   ]
  },
  {
   "cell_type": "markdown",
   "metadata": {},
   "source": [
    "### 5. Save preprocessed data\n",
    "Save the pre-processed data into a csv and pickle file."
   ]
  },
  {
   "cell_type": "code",
   "execution_count": 47,
   "metadata": {},
   "outputs": [
    {
     "data": {
      "text/plain": [
       "((101766, 49), (101766, 49))"
      ]
     },
     "execution_count": 47,
     "metadata": {},
     "output_type": "execute_result"
    }
   ],
   "source": [
    "original_shape, df.shape"
   ]
  },
  {
   "cell_type": "code",
   "execution_count": 48,
   "metadata": {},
   "outputs": [
    {
     "name": "stdout",
     "output_type": "stream",
     "text": [
      "<class 'pandas.core.frame.DataFrame'>\n",
      "Int64Index: 101766 entries, 2278392 to 443867222\n",
      "Data columns (total 49 columns):\n",
      " #   Column                    Non-Null Count   Dtype   \n",
      "---  ------                    --------------   -----   \n",
      " 0   patient_nbr               101766 non-null  int64   \n",
      " 1   race                      99493 non-null   category\n",
      " 2   gender                    101766 non-null  category\n",
      " 3   age                       101766 non-null  int64   \n",
      " 4   admission_type_id         101766 non-null  category\n",
      " 5   discharge_disposition_id  101766 non-null  category\n",
      " 6   admission_source_id       101766 non-null  category\n",
      " 7   days_in_hospital          101766 non-null  int64   \n",
      " 8   medical_specialty         51817 non-null   object  \n",
      " 9   num_lab_procedures        101766 non-null  int64   \n",
      " 10  num_procedures            101766 non-null  int64   \n",
      " 11  num_medications           101766 non-null  int64   \n",
      " 12  number_outpatient         101766 non-null  int64   \n",
      " 13  number_emergency          101766 non-null  int64   \n",
      " 14  number_inpatient          101766 non-null  int64   \n",
      " 15  diag_1                    101745 non-null  category\n",
      " 16  diag_2                    101408 non-null  category\n",
      " 17  diag_3                    100343 non-null  category\n",
      " 18  number_diagnoses          101766 non-null  int64   \n",
      " 19  max_glu_serum             5346 non-null    object  \n",
      " 20  A1Cresult                 17018 non-null   object  \n",
      " 21  metformin                 101766 non-null  category\n",
      " 22  repaglinide               101766 non-null  category\n",
      " 23  nateglinide               101766 non-null  category\n",
      " 24  chlorpropamide            101766 non-null  category\n",
      " 25  glimepiride               101766 non-null  category\n",
      " 26  acetohexamide             101766 non-null  category\n",
      " 27  glipizide                 101766 non-null  category\n",
      " 28  glyburide                 101766 non-null  category\n",
      " 29  tolbutamide               101766 non-null  category\n",
      " 30  pioglitazone              101766 non-null  category\n",
      " 31  rosiglitazone             101766 non-null  category\n",
      " 32  acarbose                  101766 non-null  category\n",
      " 33  miglitol                  101766 non-null  category\n",
      " 34  troglitazone              101766 non-null  category\n",
      " 35  tolazamide                101766 non-null  category\n",
      " 36  examide                   101766 non-null  category\n",
      " 37  citoglipton               101766 non-null  category\n",
      " 38  insulin                   101766 non-null  category\n",
      " 39  glyburide-metformin       101766 non-null  category\n",
      " 40  glipizide-metformin       101766 non-null  category\n",
      " 41  glimepiride-pioglitazone  101766 non-null  category\n",
      " 42  metformin-rosiglitazone   101766 non-null  category\n",
      " 43  metformin-pioglitazone    101766 non-null  category\n",
      " 44  change                    101766 non-null  object  \n",
      " 45  diabetesMed               101766 non-null  object  \n",
      " 46  readmitted                101766 non-null  category\n",
      " 47  is_readmitted             101766 non-null  int64   \n",
      " 48  is_readmitted_early       101766 non-null  int64   \n",
      "dtypes: category(32), int64(12), object(5)\n",
      "memory usage: 17.5+ MB\n"
     ]
    }
   ],
   "source": [
    "df.info()"
   ]
  },
  {
   "cell_type": "code",
   "execution_count": 49,
   "metadata": {},
   "outputs": [],
   "source": [
    "df.to_csv(OUTPUT_CSV_FILEPATH)"
   ]
  },
  {
   "cell_type": "code",
   "execution_count": 50,
   "metadata": {},
   "outputs": [],
   "source": [
    "df.to_pickle(OUTPUT_PICKLE_FILEPATH)"
   ]
  },
  {
   "cell_type": "code",
   "execution_count": 51,
   "metadata": {},
   "outputs": [
    {
     "name": "stdout",
     "output_type": "stream",
     "text": [
      "<class 'pandas.core.frame.DataFrame'>\n",
      "MultiIndex: 71518 entries, (12522, 48330783) to (443867222, 175429310)\n",
      "Data columns (total 45 columns):\n",
      " #   Column                    Non-Null Count  Dtype   \n",
      "---  ------                    --------------  -----   \n",
      " 0   race                      69570 non-null  category\n",
      " 1   gender                    71518 non-null  category\n",
      " 2   age                       71518 non-null  int64   \n",
      " 3   admission_type_id         71518 non-null  category\n",
      " 4   discharge_disposition_id  71518 non-null  category\n",
      " 5   admission_source_id       71518 non-null  category\n",
      " 6   days_in_hospital          71518 non-null  int64   \n",
      " 7   medical_specialty         37041 non-null  object  \n",
      " 8   num_lab_procedures        71518 non-null  int64   \n",
      " 9   num_procedures            71518 non-null  int64   \n",
      " 10  num_medications           71518 non-null  int64   \n",
      " 11  number_outpatient         71518 non-null  int64   \n",
      " 12  number_emergency          71518 non-null  int64   \n",
      " 13  number_inpatient          71518 non-null  int64   \n",
      " 14  diag_1                    71507 non-null  category\n",
      " 15  diag_2                    71224 non-null  category\n",
      " 16  diag_3                    70293 non-null  category\n",
      " 17  number_diagnoses          71518 non-null  int64   \n",
      " 18  max_glu_serum             3456 non-null   object  \n",
      " 19  A1Cresult                 12986 non-null  object  \n",
      " 20  metformin                 71518 non-null  category\n",
      " 21  repaglinide               71518 non-null  category\n",
      " 22  nateglinide               71518 non-null  category\n",
      " 23  chlorpropamide            71518 non-null  category\n",
      " 24  glimepiride               71518 non-null  category\n",
      " 25  acetohexamide             71518 non-null  category\n",
      " 26  glipizide                 71518 non-null  category\n",
      " 27  glyburide                 71518 non-null  category\n",
      " 28  tolbutamide               71518 non-null  category\n",
      " 29  pioglitazone              71518 non-null  category\n",
      " 30  rosiglitazone             71518 non-null  category\n",
      " 31  acarbose                  71518 non-null  category\n",
      " 32  miglitol                  71518 non-null  category\n",
      " 33  troglitazone              71518 non-null  category\n",
      " 34  tolazamide                71518 non-null  category\n",
      " 35  insulin                   71518 non-null  category\n",
      " 36  glyburide-metformin       71518 non-null  category\n",
      " 37  glipizide-metformin       71518 non-null  category\n",
      " 38  metformin-rosiglitazone   71518 non-null  category\n",
      " 39  metformin-pioglitazone    71518 non-null  category\n",
      " 40  change                    71518 non-null  object  \n",
      " 41  diabetesMed               71518 non-null  object  \n",
      " 42  readmitted                71518 non-null  category\n",
      " 43  is_readmitted             71518 non-null  int64   \n",
      " 44  is_readmitted_early       71518 non-null  int64   \n",
      "dtypes: category(29), int64(11), object(5)\n",
      "memory usage: 16.7+ MB\n"
     ]
    }
   ],
   "source": [
    "single_encounter_df.info()"
   ]
  },
  {
   "cell_type": "code",
   "execution_count": 52,
   "metadata": {},
   "outputs": [],
   "source": [
    "single_encounter_df.to_csv(OUTPUT_SINGLE_ENCOUNTER_CSV_FILEPATH)"
   ]
  },
  {
   "cell_type": "code",
   "execution_count": 53,
   "metadata": {},
   "outputs": [],
   "source": [
    "single_encounter_df.to_pickle(OUTPUT_SINGLE_ENCOUNTER_PICKLE_FILEPATH)"
   ]
  }
 ],
 "metadata": {
  "kernelspec": {
   "display_name": "Python 3",
   "language": "python",
   "name": "python3"
  },
  "language_info": {
   "codemirror_mode": {
    "name": "ipython",
    "version": 3
   },
   "file_extension": ".py",
   "mimetype": "text/x-python",
   "name": "python",
   "nbconvert_exporter": "python",
   "pygments_lexer": "ipython3",
   "version": "3.7.6"
  }
 },
 "nbformat": 4,
 "nbformat_minor": 4
}
